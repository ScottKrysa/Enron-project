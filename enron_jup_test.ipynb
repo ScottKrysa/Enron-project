{
 "cells": [
  {
   "cell_type": "code",
   "execution_count": 1,
   "metadata": {
    "collapsed": true
   },
   "outputs": [],
   "source": [
    "import os\n",
    "import email.utils\n",
    "from email.parser import Parser\n",
    "import csv\n",
    "import pandas as pd"
   ]
  },
  {
   "cell_type": "markdown",
   "metadata": {},
   "source": [
    "## Mark the folder containing all of the emails"
   ]
  },
  {
   "cell_type": "code",
   "execution_count": 2,
   "metadata": {
    "collapsed": true
   },
   "outputs": [],
   "source": [
    "rootdir = \"/Users/Scott/Desktop/tensorflow_projects/maildir_test\""
   ]
  },
  {
   "cell_type": "code",
   "execution_count": 3,
   "metadata": {},
   "outputs": [],
   "source": [
    "rootdir_lay_k = rootdir + \"/lay-k\""
   ]
  },
  {
   "cell_type": "code",
   "execution_count": 4,
   "metadata": {
    "collapsed": true
   },
   "outputs": [],
   "source": [
    "rootdir_lenhart_m = rootdir + \"/lenhart-m\""
   ]
  },
  {
   "cell_type": "markdown",
   "metadata": {},
   "source": [
    "## Loop through all files"
   ]
  },
  {
   "cell_type": "code",
   "execution_count": 5,
   "metadata": {},
   "outputs": [],
   "source": [
    "# for directory, subdirectory, filenames in  os.walk(rootdir):\n",
    "#     print(directory, subdirectory, len(filenames))"
   ]
  },
  {
   "cell_type": "code",
   "execution_count": 73,
   "metadata": {
    "collapsed": true
   },
   "outputs": [],
   "source": [
    "email_filenames = []\n",
    "\n",
    "for dirpath, subdirs, files in os.walk(rootdir):\n",
    "    for file in files:\n",
    "        if not file.startswith('.'):     # Ignore hidden files\n",
    "            email_filenames.append(os.path.join(dirpath, file))"
   ]
  },
  {
   "cell_type": "code",
   "execution_count": 74,
   "metadata": {},
   "outputs": [
    {
     "data": {
      "text/plain": [
       "(16,\n",
       " ['/Users/Scott/Desktop/tensorflow_projects/maildir_test/lay-k/family/3.',\n",
       "  '/Users/Scott/Desktop/tensorflow_projects/maildir_test/lay-k/family/4.',\n",
       "  '/Users/Scott/Desktop/tensorflow_projects/maildir_test/lay-k/family/7.',\n",
       "  '/Users/Scott/Desktop/tensorflow_projects/maildir_test/lay-k/family/6.',\n",
       "  '/Users/Scott/Desktop/tensorflow_projects/maildir_test/lay-k/family/5.',\n",
       "  '/Users/Scott/Desktop/tensorflow_projects/maildir_test/lay-k/family/1.',\n",
       "  '/Users/Scott/Desktop/tensorflow_projects/maildir_test/lay-k/family/2.',\n",
       "  '/Users/Scott/Desktop/tensorflow_projects/maildir_test/lay-k/family/8.',\n",
       "  '/Users/Scott/Desktop/tensorflow_projects/maildir_test/lenhart-m/inbox/3.',\n",
       "  '/Users/Scott/Desktop/tensorflow_projects/maildir_test/lenhart-m/inbox/4.',\n",
       "  '/Users/Scott/Desktop/tensorflow_projects/maildir_test/lenhart-m/inbox/7.',\n",
       "  '/Users/Scott/Desktop/tensorflow_projects/maildir_test/lenhart-m/inbox/6.',\n",
       "  '/Users/Scott/Desktop/tensorflow_projects/maildir_test/lenhart-m/inbox/5.',\n",
       "  '/Users/Scott/Desktop/tensorflow_projects/maildir_test/lenhart-m/inbox/1.',\n",
       "  '/Users/Scott/Desktop/tensorflow_projects/maildir_test/lenhart-m/inbox/2.',\n",
       "  '/Users/Scott/Desktop/tensorflow_projects/maildir_test/lenhart-m/inbox/8.'])"
      ]
     },
     "execution_count": 74,
     "metadata": {},
     "output_type": "execute_result"
    }
   ],
   "source": [
    "len(email_filenames), email_filenames"
   ]
  },
  {
   "cell_type": "markdown",
   "metadata": {},
   "source": [
    "## Use email.parser to analyze the emails "
   ]
  },
  {
   "cell_type": "code",
   "execution_count": 75,
   "metadata": {},
   "outputs": [],
   "source": [
    "example_filename = rootdir_lay_k + \"/family/1.\"\n",
    "example_email = open(example_filename, \"r\").read()\n",
    "\n",
    "# headers = email.message_from_file(example_filename)\n",
    "# print(headers.get('date').datetime)"
   ]
  },
  {
   "cell_type": "code",
   "execution_count": 76,
   "metadata": {},
   "outputs": [],
   "source": [
    "to_email_list = []\n",
    "from_email_list = []\n",
    "email_body = []\n",
    "date_time = []"
   ]
  },
  {
   "cell_type": "code",
   "execution_count": 77,
   "metadata": {},
   "outputs": [],
   "source": [
    "def email_analyse(inputfile, to_email_list, from_email_list, email_body, date_time):\n",
    "    \n",
    "    ## Lists\n",
    "    \n",
    "    \n",
    "    ## Open file\n",
    "    with open(inputfile, \"r\") as f:\n",
    "        data = f.read()\n",
    "\n",
    "    ## Parse the file\n",
    "    email = Parser().parsestr(data)\n",
    "    \n",
    "    ## If statement to catch variations in the TO, including restricted enron lists\n",
    "    tmp_to_email_list = []\n",
    "    if email['to']:\n",
    "        email_to = email['to']\n",
    "        email_to = email_to.replace(\"\\n\", \"\")\n",
    "        email_to = email_to.replace(\"\\t\", \"\")\n",
    "        email_to = email_to.replace(\" \", \"\")\n",
    "        email_to = email_to.split(\",\")\n",
    "        for email_to_1 in email_to:\n",
    "            tmp_to_email_list.append(email_to_1) \n",
    "        to_email_list.append(tmp_to_email_list)\n",
    "    else:\n",
    "        to_email_list.append(None)\n",
    "    \n",
    "    ## Appending the FROM\n",
    "    from_email_list.append(email['from'])\n",
    "\n",
    "    ## Appending the BODY\n",
    "    email_body.append(email.get_payload())\n",
    "    \n",
    "    ## Appending the DATETIME\n",
    "    date_time.append(email['date'])"
   ]
  },
  {
   "cell_type": "code",
   "execution_count": 78,
   "metadata": {},
   "outputs": [],
   "source": [
    "for filename in email_filenames:\n",
    "    email_analyse(filename, to_email_list, from_email_list, email_body, date_time)"
   ]
  },
  {
   "cell_type": "code",
   "execution_count": 79,
   "metadata": {},
   "outputs": [
    {
     "name": "stdout",
     "output_type": "stream",
     "text": [
      "email_filenames: 16\n",
      "to_email_list: 16\n",
      "from_email_list: 16\n",
      "email_body: 16\n",
      "date_time: 16\n"
     ]
    }
   ],
   "source": [
    "print(\"email_filenames: \" + str(len(email_filenames)))\n",
    "print(\"to_email_list: \" + str(len(to_email_list)))\n",
    "print(\"from_email_list: \" + str(len(from_email_list)))\n",
    "print(\"email_body: \" + str(len(email_body)))\n",
    "print(\"date_time: \" + str(len(date_time)))"
   ]
  },
  {
   "cell_type": "code",
   "execution_count": 88,
   "metadata": {},
   "outputs": [],
   "source": [
    "assert len(email_filenames) == len(to_email_list)"
   ]
  },
  {
   "cell_type": "code",
   "execution_count": 80,
   "metadata": {},
   "outputs": [
    {
     "name": "stdout",
     "output_type": "stream",
     "text": [
      "['kenneth.lay@enron.com']\n",
      "['klay@enron.com', 'poppopindc@aol.com', 'dherrold@enlineresources.com', 'nlay@worldnet.att.net', 'lizard_ar@yahoo.com', 'marlenen@rowefurniture.com', 'aka@zdimensional.com', 'rnegri@mindspring.com', 'bourneb@umsystem.edu', 'sharon@travelpark.com', 'jessi020674@aol.com', 'jimemerson@hotmail.com', 'ray.phillips@prodigy.net', 'phillips_elizabeth_a@lilly.com', 'juliephillips383@hotmail.com', 'em418@hotmail.com', 'hacker383@hotmail.com', 'moss37@aol.com', 'sissy@npinet.net', 'bdbranny@aol.com', 'slgard@greene.xtn.net', 'msihouston@aol.com', 'fcrowley@stellarevent.com', 'lbda1@flash.net', 'sherrie@layfam.com', 'jimkaty@aol.com', 'alkinder@att.net', 'holly@layfam.com', 'jlaywp@aol.com', 'skeeper@enron.com', 'jessica@lplpi.com', 'karenwing@aol.com']\n",
      "['mrslinda@lplpi.com']\n",
      "['yao.apasu@enron.com', 'vcarlson@pepsi.com', 'susan.weison@enron.com', 'sharon@travelpark.com', 'sally.keepers@enron.com', 'rosalee.fleming@enron.com', 'tracie.rivali@compaq.com', 'poppopindc@aol.com', 'walden@epcorp.net', 'kristin@pjd.com', 'lmcke@flash.net', 'reid@speedshore.com', 'klay@enron.com', 'jmount@singleweb.com', 'jlvittor@mofo.com', 'gjbenton@email.msn.com', 'gregkayyes@aol.com', 'girlgonesouth@aol.com', 'crossjr@prodigy.net', 'coachcfb@gdinet.com']\n",
      "['klay@enron.com', 'vermeil@ev1.net', 'vermeil@ev1.net', 'mark.lay@enron.com', 'nlay@worldnet.att.net', 'dherrold@enlineresources.com', 'courtney@lplpi.com', 'lizard_ar@yahoo.com', 'jlvittor@mofo.com', 'beau@rrhinvestments.com', 'heather@layfam.com', 'phillips_elizabeth_a@lilly.com', 'juliephillips383@hotmail.com', 'ray.phillips@prodigy.net', 'hacker383@hotmail.com', 'jessi020674@aol.com', 'jimemerson@hotmail.com', 'bourneb@umsystem.edu', 'sharon@travelpark.com', 'jlaywp@aol.com', 'marlenen@rowefurniture.com', 'aka@zdimensional.com', 'rnegri@mindspring.com', 'weegeorgie@earthlink.net', 'kirby@netservice.com.mx', 'moss37@aol.com', 'jimkaty@aol.com']\n",
      "['kenneth.lay@enron.com']\n",
      "['kenneth.lay@enron.com']\n",
      "['vermeil@ev1.net', 'nlay@worldnet.att.net', 'dherrold@enlineresources.com', 'lizard_ar@yahoo.com', 'beau@layfam.com', 'mrslinda@lplpi.com', 'kenneth.lay@enron.com']\n",
      "['matthew.lenhart@enron.com']\n",
      "['matthew.lenhart@enron.com']\n",
      "None\n",
      "['matthew.lenhart@enron.com']\n",
      "['matthew.lenhart@enron.com']\n",
      "['matthew.lenhart@enron.com']\n",
      "['matthew.lenhart@enron.com']\n",
      "['matthew.lenhart@enron.com']\n"
     ]
    }
   ],
   "source": [
    "for to_email in to_email_list:\n",
    "    print(to_email)"
   ]
  },
  {
   "cell_type": "code",
   "execution_count": 81,
   "metadata": {},
   "outputs": [],
   "source": [
    "# for dirpath, subdirs, files in os.walk():\n",
    "#     for file in files:\n",
    "#         print(os.path.join(dirpath, x), to_email_list, from_email_list, email_body)\n",
    "#         email_analyse(os.path.join(dirpath, x), to_email_list, from_email_list, email_body)\n",
    "\n",
    "# for directory, subdirectory, filenames in  os.walk(rootdir_lay_k):\n",
    "#     for filename in filenames:\n",
    "#         email_analyse(os.path.join(directory, filename), to_email_list, from_email_list, email_body)"
   ]
  },
  {
   "cell_type": "markdown",
   "metadata": {},
   "source": [
    "## Writing a CSV file and testing writing data to it"
   ]
  },
  {
   "cell_type": "code",
   "execution_count": 82,
   "metadata": {
    "collapsed": true
   },
   "outputs": [],
   "source": [
    "# master_email_list = [['name_of_file', 'to_email_list', 'from_email_list', 'email_body'], [email_filenames, to_email_list, from_email_list, email_body]]"
   ]
  },
  {
   "cell_type": "code",
   "execution_count": 83,
   "metadata": {
    "collapsed": true
   },
   "outputs": [],
   "source": [
    "# f = open('enron_test_2.csv', 'w')\n",
    "\n",
    "# with f as output:\n",
    "\n",
    "#     writer = csv.writer(f, lineterminator='\\n')\n",
    "#     writer.writerows(master_email_list)"
   ]
  },
  {
   "cell_type": "code",
   "execution_count": 84,
   "metadata": {},
   "outputs": [],
   "source": [
    "# open('enron_test_2.csv', 'r').read()"
   ]
  },
  {
   "cell_type": "markdown",
   "metadata": {},
   "source": [
    "## Writing the lists to a Pandas Dataframe"
   ]
  },
  {
   "cell_type": "code",
   "execution_count": 85,
   "metadata": {},
   "outputs": [],
   "source": [
    "email_df = pd.DataFrame(\n",
    "    {'email_filename': email_filenames,\n",
    "     'to_email_list': to_email_list,\n",
    "     'from_email_list': from_email_list,\n",
    "     'email_body': email_body,\n",
    "     'date_time': date_time\n",
    "    })"
   ]
  },
  {
   "cell_type": "code",
   "execution_count": 86,
   "metadata": {},
   "outputs": [
    {
     "data": {
      "text/html": [
       "<div>\n",
       "<style>\n",
       "    .dataframe thead tr:only-child th {\n",
       "        text-align: right;\n",
       "    }\n",
       "\n",
       "    .dataframe thead th {\n",
       "        text-align: left;\n",
       "    }\n",
       "\n",
       "    .dataframe tbody tr th {\n",
       "        vertical-align: top;\n",
       "    }\n",
       "</style>\n",
       "<table border=\"1\" class=\"dataframe\">\n",
       "  <thead>\n",
       "    <tr style=\"text-align: right;\">\n",
       "      <th></th>\n",
       "      <th>date_time</th>\n",
       "      <th>email_body</th>\n",
       "      <th>email_filename</th>\n",
       "      <th>from_email_list</th>\n",
       "      <th>to_email_list</th>\n",
       "    </tr>\n",
       "  </thead>\n",
       "  <tbody>\n",
       "    <tr>\n",
       "      <th>0</th>\n",
       "      <td>Fri, 3 Dec 1999 16:51:00 -0800 (PST)</td>\n",
       "      <td>Since you left for India, and in case I forget...</td>\n",
       "      <td>/Users/Scott/Desktop/tensorflow_projects/maild...</td>\n",
       "      <td>mrslinda@lplpi.com</td>\n",
       "      <td>[kenneth.lay@enron.com]</td>\n",
       "    </tr>\n",
       "    <tr>\n",
       "      <th>1</th>\n",
       "      <td>Mon, 12 Jun 2000 16:25:00 -0700 (PDT)</td>\n",
       "      <td>Dear Family and Friends,\\nKen and I just cut s...</td>\n",
       "      <td>/Users/Scott/Desktop/tensorflow_projects/maild...</td>\n",
       "      <td>mrslinda@lplpi.com</td>\n",
       "      <td>[klay@enron.com, poppopindc@aol.com, dherrold@...</td>\n",
       "    </tr>\n",
       "    <tr>\n",
       "      <th>2</th>\n",
       "      <td>Sun, 13 Aug 2000 07:24:00 -0700 (PDT)</td>\n",
       "      <td>Linda,\\n?\\nMark, Zach and I would like to come...</td>\n",
       "      <td>/Users/Scott/Desktop/tensorflow_projects/maild...</td>\n",
       "      <td>nlay@att.net</td>\n",
       "      <td>[mrslinda@lplpi.com]</td>\n",
       "    </tr>\n",
       "    <tr>\n",
       "      <th>3</th>\n",
       "      <td>Tue, 4 Jul 2000 11:05:00 -0700 (PDT)</td>\n",
       "      <td>----- Original Message -----\\nFrom: Mark Lay &lt;...</td>\n",
       "      <td>/Users/Scott/Desktop/tensorflow_projects/maild...</td>\n",
       "      <td>nlay@att.net</td>\n",
       "      <td>[yao.apasu@enron.com, vcarlson@pepsi.com, susa...</td>\n",
       "    </tr>\n",
       "    <tr>\n",
       "      <th>4</th>\n",
       "      <td>Sat, 17 Jun 2000 11:07:00 -0700 (PDT)</td>\n",
       "      <td>Dear Family,\\nAs you can see below, at 90 year...</td>\n",
       "      <td>/Users/Scott/Desktop/tensorflow_projects/maild...</td>\n",
       "      <td>mrslinda@lplpi.com</td>\n",
       "      <td>[klay@enron.com, vermeil@ev1.net, vermeil@ev1....</td>\n",
       "    </tr>\n",
       "    <tr>\n",
       "      <th>5</th>\n",
       "      <td>Mon, 25 Oct 1999 16:06:00 -0700 (PDT)</td>\n",
       "      <td>Re: TCW Galileo Aggressive Growth Equities Fun...</td>\n",
       "      <td>/Users/Scott/Desktop/tensorflow_projects/maild...</td>\n",
       "      <td>beau@rrhinvestments.com</td>\n",
       "      <td>[kenneth.lay@enron.com]</td>\n",
       "    </tr>\n",
       "    <tr>\n",
       "      <th>6</th>\n",
       "      <td>Tue, 9 Nov 1999 07:52:00 -0800 (PST)</td>\n",
       "      <td>Royal Carson of Carson Private Capital wanted ...</td>\n",
       "      <td>/Users/Scott/Desktop/tensorflow_projects/maild...</td>\n",
       "      <td>beau@rrhinvestments.com</td>\n",
       "      <td>[kenneth.lay@enron.com]</td>\n",
       "    </tr>\n",
       "    <tr>\n",
       "      <th>7</th>\n",
       "      <td>Tue, 19 Sep 2000 03:26:00 -0700 (PDT)</td>\n",
       "      <td>Per Margie, the access code for the #2 house i...</td>\n",
       "      <td>/Users/Scott/Desktop/tensorflow_projects/maild...</td>\n",
       "      <td>sally.keepers@enron.com</td>\n",
       "      <td>[vermeil@ev1.net, nlay@worldnet.att.net, dherr...</td>\n",
       "    </tr>\n",
       "    <tr>\n",
       "      <th>8</th>\n",
       "      <td>Fri, 25 May 2001 08:53:48 -0700 (PDT)</td>\n",
       "      <td>\\n\\nThank you for booking your air travel with...</td>\n",
       "      <td>/Users/Scott/Desktop/tensorflow_projects/maild...</td>\n",
       "      <td>travel@support.expedia.com</td>\n",
       "      <td>[matthew.lenhart@enron.com]</td>\n",
       "    </tr>\n",
       "    <tr>\n",
       "      <th>9</th>\n",
       "      <td>Mon, 4 Jun 2001 04:06:55 -0700 (PDT)</td>\n",
       "      <td>Dear Matthew Lenhart,\\n\\nThank you for recomme...</td>\n",
       "      <td>/Users/Scott/Desktop/tensorflow_projects/maild...</td>\n",
       "      <td>referrals@referrals.com</td>\n",
       "      <td>[matthew.lenhart@enron.com]</td>\n",
       "    </tr>\n",
       "    <tr>\n",
       "      <th>10</th>\n",
       "      <td>Thu, 7 Jun 2001 20:04:35 -0700 (PDT)</td>\n",
       "      <td>\\nAs you may be aware, Enron Corp. is a member...</td>\n",
       "      <td>/Users/Scott/Desktop/tensorflow_projects/maild...</td>\n",
       "      <td>40enron@enron.com</td>\n",
       "      <td>None</td>\n",
       "    </tr>\n",
       "    <tr>\n",
       "      <th>11</th>\n",
       "      <td>Thu, 7 Jun 2001 17:26:31 -0700 (PDT)</td>\n",
       "      <td>I have no fears...the bet stands.\\n\\nYou shoul...</td>\n",
       "      <td>/Users/Scott/Desktop/tensorflow_projects/maild...</td>\n",
       "      <td>daniel.lisk@enron.com</td>\n",
       "      <td>[matthew.lenhart@enron.com]</td>\n",
       "    </tr>\n",
       "    <tr>\n",
       "      <th>12</th>\n",
       "      <td>Tue, 5 Jun 2001 04:50:45 -0700 (PDT)</td>\n",
       "      <td>Dear Matthew Lenhart,\\n\\nThank you for recomme...</td>\n",
       "      <td>/Users/Scott/Desktop/tensorflow_projects/maild...</td>\n",
       "      <td>referrals@referrals.com</td>\n",
       "      <td>[matthew.lenhart@enron.com]</td>\n",
       "    </tr>\n",
       "    <tr>\n",
       "      <th>13</th>\n",
       "      <td>Tue, 1 May 2001 15:56:00 -0700 (PDT)</td>\n",
       "      <td>\\n\\nThank you for booking your air travel with...</td>\n",
       "      <td>/Users/Scott/Desktop/tensorflow_projects/maild...</td>\n",
       "      <td>travel@support.expedia.com</td>\n",
       "      <td>[matthew.lenhart@enron.com]</td>\n",
       "    </tr>\n",
       "    <tr>\n",
       "      <th>14</th>\n",
       "      <td>Fri, 25 May 2001 08:37:46 -0700 (PDT)</td>\n",
       "      <td>\\n\\nThank you for making your purchase online ...</td>\n",
       "      <td>/Users/Scott/Desktop/tensorflow_projects/maild...</td>\n",
       "      <td>travel@expedia.com</td>\n",
       "      <td>[matthew.lenhart@enron.com]</td>\n",
       "    </tr>\n",
       "    <tr>\n",
       "      <th>15</th>\n",
       "      <td>Fri, 8 Jun 2001 13:16:05 -0700 (PDT)</td>\n",
       "      <td>\\nHow is the rains and flooding down there? Wi...</td>\n",
       "      <td>/Users/Scott/Desktop/tensorflow_projects/maild...</td>\n",
       "      <td>hlenhart@msn.com</td>\n",
       "      <td>[matthew.lenhart@enron.com]</td>\n",
       "    </tr>\n",
       "  </tbody>\n",
       "</table>\n",
       "</div>"
      ],
      "text/plain": [
       "                                date_time  \\\n",
       "0    Fri, 3 Dec 1999 16:51:00 -0800 (PST)   \n",
       "1   Mon, 12 Jun 2000 16:25:00 -0700 (PDT)   \n",
       "2   Sun, 13 Aug 2000 07:24:00 -0700 (PDT)   \n",
       "3    Tue, 4 Jul 2000 11:05:00 -0700 (PDT)   \n",
       "4   Sat, 17 Jun 2000 11:07:00 -0700 (PDT)   \n",
       "5   Mon, 25 Oct 1999 16:06:00 -0700 (PDT)   \n",
       "6    Tue, 9 Nov 1999 07:52:00 -0800 (PST)   \n",
       "7   Tue, 19 Sep 2000 03:26:00 -0700 (PDT)   \n",
       "8   Fri, 25 May 2001 08:53:48 -0700 (PDT)   \n",
       "9    Mon, 4 Jun 2001 04:06:55 -0700 (PDT)   \n",
       "10   Thu, 7 Jun 2001 20:04:35 -0700 (PDT)   \n",
       "11   Thu, 7 Jun 2001 17:26:31 -0700 (PDT)   \n",
       "12   Tue, 5 Jun 2001 04:50:45 -0700 (PDT)   \n",
       "13   Tue, 1 May 2001 15:56:00 -0700 (PDT)   \n",
       "14  Fri, 25 May 2001 08:37:46 -0700 (PDT)   \n",
       "15   Fri, 8 Jun 2001 13:16:05 -0700 (PDT)   \n",
       "\n",
       "                                           email_body  \\\n",
       "0   Since you left for India, and in case I forget...   \n",
       "1   Dear Family and Friends,\\nKen and I just cut s...   \n",
       "2   Linda,\\n?\\nMark, Zach and I would like to come...   \n",
       "3   ----- Original Message -----\\nFrom: Mark Lay <...   \n",
       "4   Dear Family,\\nAs you can see below, at 90 year...   \n",
       "5   Re: TCW Galileo Aggressive Growth Equities Fun...   \n",
       "6   Royal Carson of Carson Private Capital wanted ...   \n",
       "7   Per Margie, the access code for the #2 house i...   \n",
       "8   \\n\\nThank you for booking your air travel with...   \n",
       "9   Dear Matthew Lenhart,\\n\\nThank you for recomme...   \n",
       "10  \\nAs you may be aware, Enron Corp. is a member...   \n",
       "11  I have no fears...the bet stands.\\n\\nYou shoul...   \n",
       "12  Dear Matthew Lenhart,\\n\\nThank you for recomme...   \n",
       "13  \\n\\nThank you for booking your air travel with...   \n",
       "14  \\n\\nThank you for making your purchase online ...   \n",
       "15  \\nHow is the rains and flooding down there? Wi...   \n",
       "\n",
       "                                       email_filename  \\\n",
       "0   /Users/Scott/Desktop/tensorflow_projects/maild...   \n",
       "1   /Users/Scott/Desktop/tensorflow_projects/maild...   \n",
       "2   /Users/Scott/Desktop/tensorflow_projects/maild...   \n",
       "3   /Users/Scott/Desktop/tensorflow_projects/maild...   \n",
       "4   /Users/Scott/Desktop/tensorflow_projects/maild...   \n",
       "5   /Users/Scott/Desktop/tensorflow_projects/maild...   \n",
       "6   /Users/Scott/Desktop/tensorflow_projects/maild...   \n",
       "7   /Users/Scott/Desktop/tensorflow_projects/maild...   \n",
       "8   /Users/Scott/Desktop/tensorflow_projects/maild...   \n",
       "9   /Users/Scott/Desktop/tensorflow_projects/maild...   \n",
       "10  /Users/Scott/Desktop/tensorflow_projects/maild...   \n",
       "11  /Users/Scott/Desktop/tensorflow_projects/maild...   \n",
       "12  /Users/Scott/Desktop/tensorflow_projects/maild...   \n",
       "13  /Users/Scott/Desktop/tensorflow_projects/maild...   \n",
       "14  /Users/Scott/Desktop/tensorflow_projects/maild...   \n",
       "15  /Users/Scott/Desktop/tensorflow_projects/maild...   \n",
       "\n",
       "               from_email_list  \\\n",
       "0           mrslinda@lplpi.com   \n",
       "1           mrslinda@lplpi.com   \n",
       "2                 nlay@att.net   \n",
       "3                 nlay@att.net   \n",
       "4           mrslinda@lplpi.com   \n",
       "5      beau@rrhinvestments.com   \n",
       "6      beau@rrhinvestments.com   \n",
       "7      sally.keepers@enron.com   \n",
       "8   travel@support.expedia.com   \n",
       "9      referrals@referrals.com   \n",
       "10           40enron@enron.com   \n",
       "11       daniel.lisk@enron.com   \n",
       "12     referrals@referrals.com   \n",
       "13  travel@support.expedia.com   \n",
       "14          travel@expedia.com   \n",
       "15            hlenhart@msn.com   \n",
       "\n",
       "                                        to_email_list  \n",
       "0                             [kenneth.lay@enron.com]  \n",
       "1   [klay@enron.com, poppopindc@aol.com, dherrold@...  \n",
       "2                                [mrslinda@lplpi.com]  \n",
       "3   [yao.apasu@enron.com, vcarlson@pepsi.com, susa...  \n",
       "4   [klay@enron.com, vermeil@ev1.net, vermeil@ev1....  \n",
       "5                             [kenneth.lay@enron.com]  \n",
       "6                             [kenneth.lay@enron.com]  \n",
       "7   [vermeil@ev1.net, nlay@worldnet.att.net, dherr...  \n",
       "8                         [matthew.lenhart@enron.com]  \n",
       "9                         [matthew.lenhart@enron.com]  \n",
       "10                                               None  \n",
       "11                        [matthew.lenhart@enron.com]  \n",
       "12                        [matthew.lenhart@enron.com]  \n",
       "13                        [matthew.lenhart@enron.com]  \n",
       "14                        [matthew.lenhart@enron.com]  \n",
       "15                        [matthew.lenhart@enron.com]  "
      ]
     },
     "execution_count": 86,
     "metadata": {},
     "output_type": "execute_result"
    }
   ],
   "source": [
    "email_df"
   ]
  },
  {
   "cell_type": "code",
   "execution_count": null,
   "metadata": {
    "collapsed": true
   },
   "outputs": [],
   "source": []
  }
 ],
 "metadata": {
  "kernelspec": {
   "display_name": "Python 3",
   "language": "python",
   "name": "python3"
  },
  "language_info": {
   "codemirror_mode": {
    "name": "ipython",
    "version": 3
   },
   "file_extension": ".py",
   "mimetype": "text/x-python",
   "name": "python",
   "nbconvert_exporter": "python",
   "pygments_lexer": "ipython3",
   "version": "3.6.0"
  }
 },
 "nbformat": 4,
 "nbformat_minor": 2
}
